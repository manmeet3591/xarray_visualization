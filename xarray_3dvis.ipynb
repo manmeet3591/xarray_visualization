{
 "cells": [
  {
   "cell_type": "code",
   "execution_count": 1,
   "metadata": {},
   "outputs": [
    {
     "name": "stdout",
     "output_type": "stream",
     "text": [
      "/home/ms86336/vtk-xarray/.venv/bin/python\n"
     ]
    }
   ],
   "source": [
    "!which python"
   ]
  },
  {
   "cell_type": "code",
   "execution_count": 3,
   "metadata": {},
   "outputs": [
    {
     "name": "stdout",
     "output_type": "stream",
     "text": [
      "Success! Reader: vtkPythonAlgorithm (0x2b62de0)\n",
      "  Debug: Off\n",
      "  Modified Time: 59\n",
      "  Reference Count: 1\n",
      "  Registered Events: (none)\n",
      "  Executive: (none)\n",
      "  ErrorCode: Success\n",
      "  Information: 0x2a4be20\n",
      "  AbortExecute: Off\n",
      "  Progress: 0\n",
      "  Progress Text: (None)\n",
      "  Object: 0x74f5f2d85490\n",
      "  Object (string): <vtkmodules.util.vtkAlgorithm.VTKPythonAlgorithmBase.InternalAlgorithm object at 0x74f5f2d85490>\n",
      "\n",
      "\n"
     ]
    },
    {
     "name": "stderr",
     "output_type": "stream",
     "text": [
      "/home/ms86336/vtk-xarray/.venv/lib/python3.12/site-packages/xarray/conventions.py:204: SerializationWarning: variable 'z' has non-conforming '_FillValue' np.float64(nan) defined, dropping '_FillValue' entirely.\n",
      "  var = coder.decode(var, name=name)\n",
      "/home/ms86336/vtk-xarray/.venv/lib/python3.12/site-packages/xarray/conventions.py:204: SerializationWarning: variable 'u' has non-conforming '_FillValue' np.float64(nan) defined, dropping '_FillValue' entirely.\n",
      "  var = coder.decode(var, name=name)\n",
      "/home/ms86336/vtk-xarray/.venv/lib/python3.12/site-packages/xarray/conventions.py:204: SerializationWarning: variable 'v' has non-conforming '_FillValue' np.float64(nan) defined, dropping '_FillValue' entirely.\n",
      "  var = coder.decode(var, name=name)\n"
     ]
    }
   ],
   "source": [
    "import xarray as xr\n",
    "from vtkmodules.util import xarray_support\n",
    "\n",
    "# Load dataset (example from xarray tutorial)\n",
    "ds = xr.tutorial.load_dataset('eraint_uvz')\n",
    "\n",
    "# Try VTK reader\n",
    "reader = ds.vtk.create_reader()\n",
    "\n",
    "print(\"Success! Reader:\", reader)"
   ]
  },
  {
   "cell_type": "code",
   "execution_count": 4,
   "metadata": {},
   "outputs": [
    {
     "ename": "ImportError",
     "evalue": "cannot import name 'XarrayViewer' from 'pan3d.viewers' (/home/ms86336/vtk-xarray/.venv/lib/python3.12/site-packages/pan3d/viewers/__init__.py)",
     "output_type": "error",
     "traceback": [
      "\u001b[31m---------------------------------------------------------------------------\u001b[39m",
      "\u001b[31mImportError\u001b[39m                               Traceback (most recent call last)",
      "\u001b[36mCell\u001b[39m\u001b[36m \u001b[39m\u001b[32mIn[4]\u001b[39m\u001b[32m, line 2\u001b[39m\n\u001b[32m      1\u001b[39m \u001b[38;5;28;01mimport\u001b[39;00m\u001b[38;5;250m \u001b[39m\u001b[34;01mxarray\u001b[39;00m\u001b[38;5;250m \u001b[39m\u001b[38;5;28;01mas\u001b[39;00m\u001b[38;5;250m \u001b[39m\u001b[34;01mxr\u001b[39;00m\n\u001b[32m----> \u001b[39m\u001b[32m2\u001b[39m \u001b[38;5;28;01mfrom\u001b[39;00m\u001b[38;5;250m \u001b[39m\u001b[34;01mpan3d\u001b[39;00m\u001b[34;01m.\u001b[39;00m\u001b[34;01mviewers\u001b[39;00m\u001b[38;5;250m \u001b[39m\u001b[38;5;28;01mimport\u001b[39;00m XarrayViewer\n\u001b[32m      4\u001b[39m ds = xr.tutorial.load_dataset(\u001b[33m\"\u001b[39m\u001b[33meraint_uvz\u001b[39m\u001b[33m\"\u001b[39m)\n\u001b[32m      5\u001b[39m viewer = XarrayViewer(ds)\n",
      "\u001b[31mImportError\u001b[39m: cannot import name 'XarrayViewer' from 'pan3d.viewers' (/home/ms86336/vtk-xarray/.venv/lib/python3.12/site-packages/pan3d/viewers/__init__.py)"
     ]
    }
   ],
   "source": [
    "import xarray as xr\n",
    "from pan3d.viewers import XarrayViewer\n",
    "\n",
    "ds = xr.tutorial.load_dataset(\"eraint_uvz\")\n",
    "viewer = XarrayViewer(ds)\n",
    "viewer.show()\n"
   ]
  },
  {
   "cell_type": "code",
   "execution_count": 5,
   "metadata": {},
   "outputs": [
    {
     "name": "stdout",
     "output_type": "stream",
     "text": [
      "['__builtins__', '__cached__', '__doc__', '__file__', '__loader__', '__name__', '__package__', '__path__', '__spec__']\n"
     ]
    }
   ],
   "source": [
    "import pan3d.viewers\n",
    "print(dir(pan3d.viewers))"
   ]
  },
  {
   "cell_type": "code",
   "execution_count": null,
   "metadata": {},
   "outputs": [
    {
     "name": "stdout",
     "output_type": "stream",
     "text": [
      "Downloaded WASM:\n",
      " - from: https://gitlab.kitware.com/api/v4/projects/13/packages/generic/vtk-wasm32-emscripten/9.4.20250331/vtk-9.4.20250331-wasm32-emscripten.tar.gz\n",
      " - to: /home/ms86336/vtk-xarray/.venv/lib/python3.12/site-packages/trame_vtklocal/module/serve/wasm/9.4.20250331\n",
      "\n",
      "App running at:\n",
      " - Local:   http://localhost:8080/\n",
      " - Network: http://127.0.0.1:8080/\n",
      "\n",
      "Note that for multi-users you need to use and configure a launcher.\n",
      "And to prevent your browser from opening, add '--server' to your command line.\n",
      "/home/ms86336/vtk-xarray/.venv/lib/python3.12/site-packages/xarray/conventions.py:204: SerializationWarning: variable 'z' has non-conforming '_FillValue' np.float64(nan) defined, dropping '_FillValue' entirely.\n",
      "  var = coder.decode(var, name=name)\n",
      "/home/ms86336/vtk-xarray/.venv/lib/python3.12/site-packages/xarray/conventions.py:204: SerializationWarning: variable 'u' has non-conforming '_FillValue' np.float64(nan) defined, dropping '_FillValue' entirely.\n",
      "  var = coder.decode(var, name=name)\n",
      "/home/ms86336/vtk-xarray/.venv/lib/python3.12/site-packages/xarray/conventions.py:204: SerializationWarning: variable 'v' has non-conforming '_FillValue' np.float64(nan) defined, dropping '_FillValue' entirely.\n",
      "  var = coder.decode(var, name=name)\n"
     ]
    }
   ],
   "source": [
    "!xr-viewer"
   ]
  },
  {
   "cell_type": "code",
   "execution_count": null,
   "metadata": {},
   "outputs": [],
   "source": []
  }
 ],
 "metadata": {
  "kernelspec": {
   "display_name": "Python 3 (ipykernel)",
   "language": "python",
   "name": "python3"
  },
  "language_info": {
   "codemirror_mode": {
    "name": "ipython",
    "version": 3
   },
   "file_extension": ".py",
   "mimetype": "text/x-python",
   "name": "python",
   "nbconvert_exporter": "python",
   "pygments_lexer": "ipython3",
   "version": "3.12.4"
  }
 },
 "nbformat": 4,
 "nbformat_minor": 2
}
